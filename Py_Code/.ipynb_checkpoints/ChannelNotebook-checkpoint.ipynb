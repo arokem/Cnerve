{
 "cells": [
  {
   "cell_type": "code",
   "execution_count": 40,
   "metadata": {
    "collapsed": true
   },
   "outputs": [],
   "source": [
    "%matplotlib inline\n",
    "from Ks_Gillespie import Ks_Gillespie\n",
    "import numpy as np\n",
    "import matplotlib.pyplot as plt"
   ]
  },
  {
   "cell_type": "code",
   "execution_count": 41,
   "metadata": {},
   "outputs": [
    {
     "data": {
      "text/plain": [
       "\"First we'll benchmark a quick Python implementation.\""
      ]
     },
     "execution_count": 41,
     "metadata": {},
     "output_type": "execute_result"
    }
   ],
   "source": [
    "\"First we'll benchmark a quick Python implementation.\""
   ]
  },
  {
   "cell_type": "code",
   "execution_count": 42,
   "metadata": {
    "collapsed": true
   },
   "outputs": [],
   "source": [
    "\"Define the kinetic parameters for the channel\"\n",
    "kinParams = {\"a_s_A\": 0.3,\"a_s_B\": -12.5,\"a_s_C\": 23.6,\n",
    "        \"b_s_A\":(1.7**3*0.000739),\"b_s_B\":-80.1,\"b_s_C\": 21.8}"
   ]
  },
  {
   "cell_type": "code",
   "execution_count": 43,
   "metadata": {},
   "outputs": [
    {
     "ename": "IndexError",
     "evalue": "list assignment index out of range",
     "output_type": "error",
     "traceback": [
      "\u001b[1;31m---------------------------------------------------------------------------\u001b[0m",
      "\u001b[1;31mIndexError\u001b[0m                                Traceback (most recent call last)",
      "\u001b[1;32m<ipython-input-43-c19a76310797>\u001b[0m in \u001b[0;36m<module>\u001b[1;34m()\u001b[0m\n\u001b[0;32m      9\u001b[0m \u001b[0ms0\u001b[0m \u001b[1;33m=\u001b[0m \u001b[1;33m[\u001b[0m\u001b[1;33m]\u001b[0m\u001b[1;33m\u001b[0m\u001b[0m\n\u001b[0;32m     10\u001b[0m \u001b[0ms1\u001b[0m \u001b[1;33m=\u001b[0m \u001b[1;33m[\u001b[0m\u001b[1;33m]\u001b[0m\u001b[1;33m\u001b[0m\u001b[0m\n\u001b[1;32m---> 11\u001b[1;33m \u001b[0ms\u001b[0m \u001b[1;33m=\u001b[0m \u001b[0mKs_Gillespie\u001b[0m\u001b[1;33m(\u001b[0m\u001b[0mdoInit\u001b[0m\u001b[1;33m,\u001b[0m\u001b[0mN_slowK\u001b[0m\u001b[1;33m,\u001b[0m\u001b[0mchan_states\u001b[0m\u001b[1;33m,\u001b[0m\u001b[0mV_m\u001b[0m\u001b[1;33m+\u001b[0m\u001b[0mE_rest\u001b[0m\u001b[1;33m,\u001b[0m\u001b[0msi\u001b[0m\u001b[1;33m,\u001b[0m\u001b[0mit\u001b[0m\u001b[1;33m,\u001b[0m\u001b[0mkinParams\u001b[0m\u001b[1;33m)\u001b[0m\u001b[1;33m\u001b[0m\u001b[0m\n\u001b[0m\u001b[0;32m     12\u001b[0m \u001b[0mstim\u001b[0m \u001b[1;33m=\u001b[0m \u001b[0mnp\u001b[0m\u001b[1;33m.\u001b[0m\u001b[0mlinspace\u001b[0m\u001b[1;33m(\u001b[0m\u001b[0mE_rest\u001b[0m\u001b[1;33m,\u001b[0m\u001b[1;36m40\u001b[0m\u001b[1;33m,\u001b[0m\u001b[1;36m150\u001b[0m\u001b[1;33m)\u001b[0m\u001b[1;33m\u001b[0m\u001b[0m\n\u001b[0;32m     13\u001b[0m \u001b[1;32mfor\u001b[0m \u001b[0mV_m\u001b[0m \u001b[1;32min\u001b[0m \u001b[0mstim\u001b[0m\u001b[1;33m:\u001b[0m\u001b[1;33m\u001b[0m\u001b[0m\n",
      "\u001b[1;32mC:\\Users\\jsere\\Google Drive\\Rubinstein\\2017NeuroInformWG\\Cnerve\\Cnerve\\Py_Code\\Ks_Gillespie.py\u001b[0m in \u001b[0;36mKs_Gillespie\u001b[1;34m(doInit, N_slowK, s, V_m, si, it, kinParams)\u001b[0m\n\u001b[0;32m     30\u001b[0m         \u001b[1;34m\"Initialize the number of channels in each state\"\u001b[0m\u001b[1;33m\u001b[0m\u001b[0m\n\u001b[0;32m     31\u001b[0m         \u001b[0md_s\u001b[0m\u001b[1;33m=\u001b[0m\u001b[0ma_s\u001b[0m\u001b[1;33m/\u001b[0m\u001b[1;33m(\u001b[0m\u001b[0ma_s\u001b[0m\u001b[1;33m+\u001b[0m\u001b[0mb_s\u001b[0m\u001b[1;33m)\u001b[0m\u001b[1;33m\u001b[0m\u001b[0m\n\u001b[1;32m---> 32\u001b[1;33m         \u001b[0mchan_states\u001b[0m\u001b[1;33m.\u001b[0m\u001b[0mappend\u001b[0m\u001b[1;33m(\u001b[0m\u001b[0mint\u001b[0m\u001b[1;33m(\u001b[0m\u001b[0mN_slowK\u001b[0m\u001b[1;33m*\u001b[0m\u001b[0md_s\u001b[0m\u001b[1;33m)\u001b[0m\u001b[1;33m)\u001b[0m\u001b[1;33m\u001b[0m\u001b[0m\n\u001b[0m\u001b[0;32m     33\u001b[0m         \u001b[0mchan_states\u001b[0m\u001b[1;33m.\u001b[0m\u001b[0minsert\u001b[0m\u001b[1;33m(\u001b[0m\u001b[1;36m0\u001b[0m\u001b[1;33m,\u001b[0m\u001b[0mint\u001b[0m\u001b[1;33m(\u001b[0m\u001b[0mN_slowK\u001b[0m\u001b[1;33m-\u001b[0m\u001b[0mchan_states\u001b[0m\u001b[1;33m[\u001b[0m\u001b[1;36m0\u001b[0m\u001b[1;33m]\u001b[0m\u001b[1;33m)\u001b[0m\u001b[1;33m)\u001b[0m\u001b[1;33m\u001b[0m\u001b[0m\n\u001b[0;32m     34\u001b[0m \u001b[1;33m\u001b[0m\u001b[0m\n",
      "\u001b[1;31mIndexError\u001b[0m: list assignment index out of range"
     ]
    }
   ],
   "source": [
    "\"Initialize other variables\"\n",
    "E_rest = -84\n",
    "V_m = E_rest\n",
    "doInit = 1\n",
    "N_slowK = 150\n",
    "it = 0.001\n",
    "si = 0 \n",
    "chan_states = []\n",
    "s0 = []\n",
    "s1 = []\n",
    "s = Ks_Gillespie(doInit,N_slowK,chan_states,V_m+E_rest,si,it,kinParams)\n",
    "stim = np.linspace(E_rest,40,150)\n",
    "for V_m in stim:\n",
    "    s = Ks_Gillespie(0,N_slowK,chan_states,V_m+E_rest,si,it,kinParams)\n",
    "    s0 = np.append(s0,chan_states[0]/N_slowK)\n",
    "    s1 = np.append(s1,chan_states[1]/N_slowK)"
   ]
  },
  {
   "cell_type": "code",
   "execution_count": 39,
   "metadata": {},
   "outputs": [
    {
     "data": {
      "text/plain": [
       "<matplotlib.legend.Legend at 0x13874104ac8>"
      ]
     },
     "execution_count": 39,
     "metadata": {},
     "output_type": "execute_result"
    },
    {
     "data": {
      "image/png": "[encoded data removed]",
      "text/plain": [
       "<matplotlib.figure.Figure at 0x138740be588>"
      ]
     },
     "metadata": {},
     "output_type": "display_data"
    }
   ],
   "source": [
    "\"Let's plot the channel dynamics.\"\n",
    "closed_Chan, = plt.plot(stim,s0,'bo',label='open')\n",
    "open_Chan, =  plt.plot(stim,s1,'r^',label='closed')\n",
    "plt.xlabel('Membrane Potential')\n",
    "plt.ylabel('% Channels')\n",
    "plt.legend(handles = [closed_Chan,open_Chan])"
   ]
  },
  {
   "cell_type": "code",
   "execution_count": 35,
   "metadata": {},
   "outputs": [
    {
     "name": "stdout",
     "output_type": "stream",
     "text": [
      "100 loops, best of 3: 5.67 ms per loop\n"
     ]
    }
   ],
   "source": [
    "%%timeit\n",
    "V_m = E_rest\n",
    "s = [0,0]\n",
    "s0 = []\n",
    "s1 = []\n",
    "s = Ks_Gillespie(doInit,N_slowK,s,V_m+E_rest,si,it,kinParams)\n",
    "stim = np.linspace(E_rest,40,150)\n",
    "for V_m in stim:\n",
    "    s = Ks_Gillespie(0,N_slowK,s,V_m+E_rest,si,it,kinParams)\n",
    "    s0 = np.append(s0,s[0]/N_slowK)\n",
    "    s1 = np.append(s1,s[1]/N_slowK)"
   ]
  },
  {
   "cell_type": "code",
   "execution_count": null,
   "metadata": {
    "collapsed": true
   },
   "outputs": [],
   "source": []
  },
  {
   "cell_type": "code",
   "execution_count": null,
   "metadata": {
    "collapsed": true
   },
   "outputs": [],
   "source": []
  }
 ],
 "metadata": {
  "kernelspec": {
   "display_name": "Python 3",
   "language": "python",
   "name": "python3"
  },
  "language_info": {
   "codemirror_mode": {
    "name": "ipython",
    "version": 3
   },
   "file_extension": ".py",
   "mimetype": "text/x-python",
   "name": "python",
   "nbconvert_exporter": "python",
   "pygments_lexer": "ipython3",
   "version": "3.6.1"
  }
 },
 "nbformat": 4,
 "nbformat_minor": 2
}
