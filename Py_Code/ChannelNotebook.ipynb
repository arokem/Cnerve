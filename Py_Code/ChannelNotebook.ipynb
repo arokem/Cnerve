{
 "cells": [
  {
   "cell_type": "code",
   "execution_count": 28,
   "metadata": {
    "collapsed": true
   },
   "outputs": [],
   "source": [
    "%matplotlib inline\n",
    "from Ks_Gillespie import Ks_Gillespie\n",
    "import numpy as np\n",
    "import matplotlib.pyplot as plt"
   ]
  },
  {
   "cell_type": "code",
   "execution_count": 29,
   "metadata": {},
   "outputs": [
    {
     "data": {
      "text/plain": [
       "\"First we'll benchmark a quick Python implementation.\""
      ]
     },
     "execution_count": 29,
     "metadata": {},
     "output_type": "execute_result"
    }
   ],
   "source": [
    "\"First we'll benchmark a quick Python implementation.\""
   ]
  },
  {
   "cell_type": "code",
   "execution_count": 30,
   "metadata": {
    "collapsed": true
   },
   "outputs": [],
   "source": [
    "\"Define the kinetic parameters for the channel\"\n",
    "kinParams = {\"a_s_A\": 0.3,\"a_s_B\": -12.5,\"a_s_C\": 23.6,\n",
    "        \"b_s_A\":(1.7**3*0.000739),\"b_s_B\":-80.1,\"b_s_C\": 21.8}"
   ]
  },
  {
   "cell_type": "code",
   "execution_count": 31,
   "metadata": {
    "collapsed": true
   },
   "outputs": [],
   "source": [
    "\"Initialize other variables\"\n",
    "E_rest = -84\n",
    "V_m = E_rest\n",
    "N_slowK = 150\n",
    "it = 0.001\n",
    "si = 0 \n",
    "chan_states = []\n",
    "s0 = []\n",
    "s1 = []\n",
    "chan_states = Ks_Gillespie(N_slowK,chan_states,V_m+E_rest,si,it,kinParams)\n",
    "stim = np.linspace(E_rest,40,150)\n",
    "for V_m in stim:\n",
    "    chan_states = Ks_Gillespie(N_slowK,chan_states,V_m+E_rest,si,it,kinParams)\n",
    "    s0 = np.append(s0,chan_states[0]/N_slowK)\n",
    "    s1 = np.append(s1,chan_states[1]/N_slowK)"
   ]
  },
  {
   "cell_type": "code",
   "execution_count": 34,
   "metadata": {},
   "outputs": [
    {
     "data": {
      "text/plain": [
       "<matplotlib.legend.Legend at 0x244b67716d8>"
      ]
     },
     "execution_count": 34,
     "metadata": {},
     "output_type": "execute_result"
    },
    {
     "data": {
      "image/png": "[encoded data removed]",
      "text/plain": [
       "<matplotlib.figure.Figure at 0x244b644a470>"
      ]
     },
     "metadata": {},
     "output_type": "display_data"
    }
   ],
   "source": [
    "\"Let's plot the channel dynamics.\"\n",
    "closed_Chan, = plt.plot(stim,s0,'bo',label='closed')\n",
    "open_Chan, =  plt.plot(stim,s1,'r^',label='open')\n",
    "plt.xlabel('Membrane Potential')\n",
    "plt.ylabel('% Channels')\n",
    "plt.legend(handles = [closed_Chan,open_Chan])"
   ]
  },
  {
   "cell_type": "code",
   "execution_count": 25,
   "metadata": {},
   "outputs": [
    {
     "name": "stdout",
     "output_type": "stream",
     "text": [
      "100 loops, best of 3: 2.79 ms per loop\n"
     ]
    }
   ],
   "source": [
    "%%timeit\n",
    "V_m = E_rest\n",
    "chan_states = []\n",
    "s0 = []\n",
    "s1 = []\n",
    "chan_states = Ks_Gillespie(N_slowK,chan_states,V_m+E_rest,si,it,kinParams)\n",
    "stim = np.linspace(E_rest,40,150)\n",
    "for V_m in stim:\n",
    "    chan_states = Ks_Gillespie(N_slowK,chan_states,V_m+E_rest,si,it,kinParams)\n",
    "    s0 = np.append(s0,chan_states[0]/N_slowK)\n",
    "    s1 = np.append(s1,chan_states[1]/N_slowK)"
   ]
  },
  {
   "cell_type": "code",
   "execution_count": 35,
   "metadata": {},
   "outputs": [
    {
     "data": {
      "text/plain": [
       "<matplotlib.legend.Legend at 0x244b681f160>"
      ]
     },
     "execution_count": 35,
     "metadata": {},
     "output_type": "execute_result"
    },
    {
     "data": {
      "image/png": "[encoded data removed]",
      "text/plain": [
       "<matplotlib.figure.Figure at 0x244b66845f8>"
      ]
     },
     "metadata": {},
     "output_type": "display_data"
    }
   ],
   "source": [
    "from Cy_Ks_Gillespie import Cy_Ks_Gillespie\n",
    "E_rest = -84\n",
    "V_m = E_rest\n",
    "chan_states = []\n",
    "s0 = []\n",
    "s1 = []\n",
    "chan_states = Cy_Ks_Gillespie(N_slowK,chan_states,V_m+E_rest,si,it,kinParams)\n",
    "stim = np.linspace(E_rest,40,150)\n",
    "for V_m in stim:\n",
    "    chan_states = Cy_Ks_Gillespie(N_slowK,chan_states,V_m+E_rest,si,it,kinParams)\n",
    "    s0 = np.append(s0,chan_states[0]/N_slowK)\n",
    "    s1 = np.append(s1,chan_states[1]/N_slowK)\n",
    "\"Let's plot the channel dynamics.\"\n",
    "closed_Chan, = plt.plot(stim,s0,'bo',label='closed')\n",
    "open_Chan, =  plt.plot(stim,s1,'r^',label='open')\n",
    "plt.xlabel('Membrane Potential')\n",
    "plt.ylabel('% Channels')\n",
    "plt.legend(handles = [closed_Chan,open_Chan])"
   ]
  },
  {
   "cell_type": "code",
   "execution_count": 27,
   "metadata": {},
   "outputs": [
    {
     "name": "stdout",
     "output_type": "stream",
     "text": [
      "100 loops, best of 3: 2.51 ms per loop\n"
     ]
    }
   ],
   "source": [
    "%%timeit\n",
    "V_m = E_rest\n",
    "chan_states = []\n",
    "s0 = []\n",
    "s1 = []\n",
    "chan_states = Cy_Ks_Gillespie(N_slowK,chan_states,V_m+E_rest,si,it,kinParams)\n",
    "stim = np.linspace(E_rest,40,150)\n",
    "for V_m in stim:\n",
    "    chan_states = Cy_Ks_Gillespie(N_slowK,chan_states,V_m+E_rest,si,it,kinParams)\n",
    "    s0 = np.append(s0,chan_states[0]/N_slowK)\n",
    "    s1 = np.append(s1,chan_states[1]/N_slowK)"
   ]
  },
  {
   "cell_type": "code",
   "execution_count": null,
   "metadata": {
    "collapsed": true
   },
   "outputs": [],
   "source": []
  }
 ],
 "metadata": {
  "anaconda-cloud": {},
  "kernelspec": {
   "display_name": "Python 3",
   "language": "python",
   "name": "python3"
  },
  "language_info": {
   "codemirror_mode": {
    "name": "ipython",
    "version": 3
   },
   "file_extension": ".py",
   "mimetype": "text/x-python",
   "name": "python",
   "nbconvert_exporter": "python",
   "pygments_lexer": "ipython3",
   "version": "3.6.1"
  }
 },
 "nbformat": 4,
 "nbformat_minor": 2
}
