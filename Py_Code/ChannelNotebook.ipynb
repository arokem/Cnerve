{
 "cells": [
  {
   "cell_type": "code",
   "execution_count": 1,
   "metadata": {},
   "outputs": [],
   "source": [
    "%matplotlib inline\n",
    "from Ks_Gillespie import Ks_Gillespie\n",
    "import numpy as np\n",
    "import matplotlib.pyplot as plt"
   ]
  },
  {
   "cell_type": "code",
   "execution_count": 2,
   "metadata": {},
   "outputs": [
    {
     "data": {
      "text/plain": [
       "\"First we'll benchmark the C_code\""
      ]
     },
     "execution_count": 2,
     "metadata": {},
     "output_type": "execute_result"
    }
   ],
   "source": [
    "\"First we'll benchmark the C_code\""
   ]
  },
  {
   "cell_type": "code",
   "execution_count": 3,
   "metadata": {
    "collapsed": true
   },
   "outputs": [],
   "source": [
    "\"Define the kinetic parameters for the channel\"\n",
    "kinParams = {\"a_s_A\": 0.3,\"a_s_B\": -12.5,\"a_s_C\": 23.6,\n",
    "        \"b_s_A\":(1.7**3*0.000739),\"b_s_B\":-80.1,\"b_s_C\": 21.8}"
   ]
  },
  {
   "cell_type": "code",
   "execution_count": 24,
   "metadata": {
    "collapsed": true
   },
   "outputs": [],
   "source": [
    "\"Initialize other variables\"\n",
    "E_rest = -84\n",
    "V_m = E_rest\n",
    "doInit = 1\n",
    "N_slowK = 150\n",
    "it = 0.001\n",
    "si = 0 \n",
    "s = [0,0]\n",
    "s0 = []\n",
    "s1 = []"
   ]
  },
  {
   "cell_type": "code",
   "execution_count": 25,
   "metadata": {
    "collapsed": true
   },
   "outputs": [],
   "source": [
    "\"Intialize the channel states at the resting potential.\"\n",
    "s = Ks_Gillespie(doInit,N_slowK,s,V_m+E_rest,si,it,kinParams)\n",
    "stim = np.linspace(E_rest,40,150)\n",
    "for V_m in stim:\n",
    "    s = Ks_Gillespie(0,N_slowK,s,V_m+E_rest,si,it,kinParams)\n",
    "    s0 = np.append(s0,s[0]/N_slowK)\n",
    "    s1 = np.append(s1,s[1]/N_slowK)"
   ]
  },
  {
   "cell_type": "code",
   "execution_count": 26,
   "metadata": {},
   "outputs": [
    {
     "data": {
      "text/plain": [
       "<matplotlib.legend.Legend at 0x1387389cf98>"
      ]
     },
     "execution_count": 26,
     "metadata": {},
     "output_type": "execute_result"
    },
    {
     "data": {
      "image/png": "[encoded data removed]",
      "text/plain": [
       "<matplotlib.figure.Figure at 0x13873bbaeb8>"
      ]
     },
     "metadata": {},
     "output_type": "display_data"
    }
   ],
   "source": [
    "\"Let's plot the channel dynamics.\"\n",
    "closed_Chan, = plt.plot(stim,s0,'bo',label='open')\n",
    "open_Chan, =  plt.plot(stim,s1,'r^',label='closed')\n",
    "plt.xlabel('Membrane Potential')\n",
    "plt.ylabel('% Channels')\n",
    "plt.legend(handles = [closed_Chan,open_Chan])"
   ]
  },
  {
   "cell_type": "code",
   "execution_count": null,
   "metadata": {
    "collapsed": true
   },
   "outputs": [],
   "source": []
  }
 ],
 "metadata": {
  "kernelspec": {
   "display_name": "Python 3",
   "language": "python",
   "name": "python3"
  },
  "language_info": {
   "codemirror_mode": {
    "name": "ipython",
    "version": 3
   },
   "file_extension": ".py",
   "mimetype": "text/x-python",
   "name": "python",
   "nbconvert_exporter": "python",
   "pygments_lexer": "ipython3",
   "version": "3.6.1"
  }
 },
 "nbformat": 4,
 "nbformat_minor": 2
}
